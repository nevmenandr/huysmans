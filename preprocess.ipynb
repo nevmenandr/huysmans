{
 "cells": [
  {
   "cell_type": "code",
   "execution_count": 24,
   "id": "87473f57",
   "metadata": {},
   "outputs": [],
   "source": [
    "import re\n",
    "import os\n",
    "import time\n",
    "from pathlib import Path\n",
    "from cltk.tokenizers.lat.lat import LatinWordTokenizer\n",
    "from cltk.lemmatize.lat import LatinBackoffLemmatizer\n",
    "from cltk.lemmatize.lat import RomanNumeralLemmatizer\n",
    "from cltk.stops.lat import STOPS\n",
    "\n",
    "tokenizer = LatinWordTokenizer()\n",
    "lemmatizer = LatinBackoffLemmatizer()\n",
    "num_lemmatizer = RomanNumeralLemmatizer()\n",
    "stops = STOPS"
   ]
  },
  {
   "cell_type": "code",
   "execution_count": 25,
   "id": "03d8ec39",
   "metadata": {},
   "outputs": [],
   "source": [
    "def preprocess(text):\n",
    "    text = text.lower()\n",
    "    r = r'[^a-z\\s]'\n",
    "    r0 = ' '\n",
    "    text = re.sub(r, r0, text)\n",
    "    text = text.replace('j', 'i')\n",
    "    text = text.replace('v', 'u')\n",
    "    return text"
   ]
  },
  {
   "cell_type": "code",
   "execution_count": 26,
   "id": "9726b967-e0f8-4075-a525-b8008de8f7eb",
   "metadata": {},
   "outputs": [],
   "source": [
    "def lemmata(text):\n",
    "    tokens = tokenizer.tokenize(text)\n",
    "    num_temp = num_lemmatizer.lemmatize(tokens)\n",
    "    tokens_clear = [i[0] for i in num_temp if not i[1]]\n",
    "    lemmata = lemmatizer.lemmatize(tokens_clear)\n",
    "    result = ' '.join([i[1] for i in lemmata if not i[1] in stops])\n",
    "    result = re.sub(r'\\d', '', result)\n",
    "    return result"
   ]
  },
  {
   "cell_type": "code",
   "execution_count": 29,
   "id": "1400f837",
   "metadata": {},
   "outputs": [],
   "source": [
    "base_dir = 'corpus'\n",
    "base_dir_n = 'corpus_preprocessed'\n",
    "\n",
    "for target in ['aimait', 'terribles']:\n",
    "    target_label = 1 if target == 'aimait' else 0\n",
    "    \n",
    "    target_dir = os.path.join(base_dir, target)\n",
    "    target_dir_n = os.path.join(base_dir_n, target)\n",
    "    \n",
    "    for author in os.listdir(target_dir):\n",
    "        author_dir = os.path.join(target_dir, author)\n",
    "        author_dir_n = os.path.join(target_dir_n, author)\n",
    "        if not Path(author_dir_n).exists():\n",
    "            os.makedirs(author_dir_n)\n",
    "\n",
    "        if os.path.isdir(author_dir):\n",
    "            for filename in os.listdir(author_dir):\n",
    "                if filename.endswith('.txt'):\n",
    "                    file_path = os.path.join(author_dir, filename)\n",
    "                    file_path_n = os.path.join(author_dir_n, filename)\n",
    "\n",
    "                    if not Path(file_path_n).exists():\n",
    "                        with open(file_path, 'r', encoding='utf-8') as file:\n",
    "                            text = file.read()\n",
    "                        text = preprocess(text)\n",
    "                        text = lemmata(text)\n",
    "                        with open(file_path_n, 'w') as file:\n",
    "                            file.write(text)\n"
   ]
  }
 ],
 "metadata": {
  "kernelspec": {
   "display_name": "Python 3 (ipykernel)",
   "language": "python",
   "name": "python3"
  },
  "language_info": {
   "codemirror_mode": {
    "name": "ipython",
    "version": 3
   },
   "file_extension": ".py",
   "mimetype": "text/x-python",
   "name": "python",
   "nbconvert_exporter": "python",
   "pygments_lexer": "ipython3",
   "version": "3.9.20"
  }
 },
 "nbformat": 4,
 "nbformat_minor": 5
}
